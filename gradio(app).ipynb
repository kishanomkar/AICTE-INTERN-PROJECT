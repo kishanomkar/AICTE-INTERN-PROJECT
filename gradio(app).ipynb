{
 "cells": [
  {
   "cell_type": "markdown",
   "metadata": {},
   "source": [
    "# 🗑️ Garbage Classifier Gradio App\n",
    "This notebook launches an interactive Gradio interface to classify garbage images using a trained TensorFlow model with focal loss."
   ]
  },
  {
   "cell_type": "code",
   "metadata": {},
   "source": [
    "import gradio as gr\n",
    "import tensorflow as tf\n",
    "import numpy as np\n",
    "from tensorflow.keras.preprocessing import image\n",
    "from focal_loss import SparseCategoricalFocalLoss"
   ],
   "execution_count": null,
   "outputs": []
  },
  {
   "cell_type": "code",
   "metadata": {},
   "source": [
    "# Load model\n",
    "model = tf.keras.models.load_model(\n",
    "    \"garbage_classifier_focal.keras\",\n",
    "    custom_objects={\"SparseCategoricalFocalLoss\": SparseCategoricalFocalLoss}\n",
    ")\n",
    "class_names = ['cardboard', 'glass', 'metal', 'paper', 'plastic', 'trash']"
   ],
   "execution_count": null,
   "outputs": []
  },
  {
   "cell_type": "code",
   "metadata": {},
   "source": [
    "# Prediction function\n",
    "def classify_garbage(img):\n",
    "    if img is None:\n",
    "        return {\"Error\": 0.0}\n",
    "    img = img.resize((128, 128))\n",
    "    img_array = image.img_to_array(img)\n",
    "    img_array = tf.expand_dims(img_array, axis=0)\n",
    "    predictions = model.predict(img_array)\n",
    "    predicted_class = class_names[np.argmax(predictions)]\n",
    "    confidence = float(np.max(predictions))\n",
    "    return {predicted_class: confidence}"
   ],
   "execution_count": null,
   "outputs": []
  },
  {
   "cell_type": "code",
   "metadata": {},
   "source": [
    "# Gradio UI\n",
    "with gr.Blocks(title=\"Garbage Classifier\") as demo:\n",
    "    gr.Markdown(\"\"\"\n",
    "    # 🗑️ Garbage Classifier\n",
    "    Upload an image or use your webcam to classify waste as:\n",
    "    **cardboard**, **glass**, **metal**, **paper**, **plastic**, or **trash**.\n",
    "    \"\"\")\n",
    "    with gr.Row():\n",
    "        upload_image = gr.Image(type=\"pil\", label=\"Upload Image\", sources=[\"upload\"])\n",
    "        webcam_image = gr.Image(type=\"pil\", label=\"Use Webcam\", sources=[\"webcam\"])\n",
    "    result = gr.Label(num_top_classes=3, label=\"Top Predictions\")\n",
    "    button = gr.Button(\"🔍 Classify\")\n",
    "    def process(uploaded, webcam):\n",
    "        return classify_garbage(uploaded if uploaded else webcam)\n",
    "    button.click(fn=process, inputs=[upload_image, webcam_image], outputs=result)\n",
    "demo.launch()"
   ],
   "execution_count": null,
   "outputs": []
  }
 ],
 "metadata": {
  "kernelspec": {
   "display_name": "Python 3",
   "language": "python",
   "name": "python3"
  },
  "language_info": {
   "name": "python",
   "version": ""
  }
 },
 "nbformat": 4,
 "nbformat_minor": 5
}
